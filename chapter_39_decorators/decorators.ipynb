{
 "cells": [
  {
   "cell_type": "markdown",
   "metadata": {},
   "source": [
    "## Using class as decorator"
   ]
  },
  {
   "cell_type": "code",
   "execution_count": 1,
   "metadata": {
    "collapsed": true
   },
   "outputs": [],
   "source": [
    "class my_decorator(object):\n",
    "    def __init__(self, func):\n",
    "        self._func = func\n",
    "    def __call__(self, *args, **kwargs):\n",
    "        print('Called {}(*({}), **({}))'.format(self._func.__name__, args, kwargs))\n",
    "        print('Self is {}'.format(self))\n",
    "        return self._func(*args, **kwargs)\n",
    "    def __str__(self):\n",
    "        return 'Decorator for {}'.format(self._func.__name__)"
   ]
  },
  {
   "cell_type": "code",
   "execution_count": 2,
   "metadata": {
    "collapsed": true
   },
   "outputs": [],
   "source": [
    "@my_decorator\n",
    "def f(x, y):\n",
    "    return x ** y"
   ]
  },
  {
   "cell_type": "code",
   "execution_count": 3,
   "metadata": {
    "collapsed": false
   },
   "outputs": [
    {
     "name": "stdout",
     "output_type": "stream",
     "text": [
      "Called f(*((5, 6)), **({}))\n",
      "Self is Decorator for f\n"
     ]
    },
    {
     "data": {
      "text/plain": [
       "15625"
      ]
     },
     "execution_count": 3,
     "metadata": {},
     "output_type": "execute_result"
    }
   ],
   "source": [
    "f(5, 6)"
   ]
  },
  {
   "cell_type": "code",
   "execution_count": 4,
   "metadata": {
    "collapsed": true
   },
   "outputs": [],
   "source": [
    "class Calculator(object):\n",
    "    def __init__(self, init_value):\n",
    "        self.coef = init_value\n",
    "    @my_decorator\n",
    "    def calc(self, x, y):\n",
    "        return x * y * self.coef"
   ]
  },
  {
   "cell_type": "code",
   "execution_count": 6,
   "metadata": {
    "collapsed": false
   },
   "outputs": [
    {
     "name": "stdout",
     "output_type": "stream",
     "text": [
      "Called calc(*((2, 3)), **({}))\n",
      "Self is Decorator for calc\n"
     ]
    },
    {
     "ename": "TypeError",
     "evalue": "calc() missing 1 required positional argument: 'y'",
     "output_type": "error",
     "traceback": [
      "\u001b[0;31m---------------------------------------------------------------------------\u001b[0m",
      "\u001b[0;31mTypeError\u001b[0m                                 Traceback (most recent call last)",
      "\u001b[0;32m<ipython-input-6-1058af6e63cb>\u001b[0m in \u001b[0;36m<module>\u001b[0;34m()\u001b[0m\n\u001b[1;32m      1\u001b[0m \u001b[0mc\u001b[0m \u001b[0;34m=\u001b[0m \u001b[0mCalculator\u001b[0m\u001b[0;34m(\u001b[0m\u001b[0;36m10\u001b[0m\u001b[0;34m)\u001b[0m\u001b[0;34m\u001b[0m\u001b[0m\n\u001b[0;32m----> 2\u001b[0;31m \u001b[0mc\u001b[0m\u001b[0;34m.\u001b[0m\u001b[0mcalc\u001b[0m\u001b[0;34m(\u001b[0m\u001b[0;36m2\u001b[0m\u001b[0;34m,\u001b[0m \u001b[0;36m3\u001b[0m\u001b[0;34m)\u001b[0m\u001b[0;34m\u001b[0m\u001b[0m\n\u001b[0m",
      "\u001b[0;32m<ipython-input-1-e45b8e5ca5e5>\u001b[0m in \u001b[0;36m__call__\u001b[0;34m(self, *args, **kwargs)\u001b[0m\n\u001b[1;32m      5\u001b[0m         \u001b[0mprint\u001b[0m\u001b[0;34m(\u001b[0m\u001b[0;34m'Called {}(*({}), **({}))'\u001b[0m\u001b[0;34m.\u001b[0m\u001b[0mformat\u001b[0m\u001b[0;34m(\u001b[0m\u001b[0mself\u001b[0m\u001b[0;34m.\u001b[0m\u001b[0m_func\u001b[0m\u001b[0;34m.\u001b[0m\u001b[0m__name__\u001b[0m\u001b[0;34m,\u001b[0m \u001b[0margs\u001b[0m\u001b[0;34m,\u001b[0m \u001b[0mkwargs\u001b[0m\u001b[0;34m)\u001b[0m\u001b[0;34m)\u001b[0m\u001b[0;34m\u001b[0m\u001b[0m\n\u001b[1;32m      6\u001b[0m         \u001b[0mprint\u001b[0m\u001b[0;34m(\u001b[0m\u001b[0;34m'Self is {}'\u001b[0m\u001b[0;34m.\u001b[0m\u001b[0mformat\u001b[0m\u001b[0;34m(\u001b[0m\u001b[0mself\u001b[0m\u001b[0;34m)\u001b[0m\u001b[0;34m)\u001b[0m\u001b[0;34m\u001b[0m\u001b[0m\n\u001b[0;32m----> 7\u001b[0;31m         \u001b[0;32mreturn\u001b[0m \u001b[0mself\u001b[0m\u001b[0;34m.\u001b[0m\u001b[0m_func\u001b[0m\u001b[0;34m(\u001b[0m\u001b[0;34m*\u001b[0m\u001b[0margs\u001b[0m\u001b[0;34m,\u001b[0m \u001b[0;34m**\u001b[0m\u001b[0mkwargs\u001b[0m\u001b[0;34m)\u001b[0m\u001b[0;34m\u001b[0m\u001b[0m\n\u001b[0m\u001b[1;32m      8\u001b[0m     \u001b[0;32mdef\u001b[0m \u001b[0m__str__\u001b[0m\u001b[0;34m(\u001b[0m\u001b[0mself\u001b[0m\u001b[0;34m)\u001b[0m\u001b[0;34m:\u001b[0m\u001b[0;34m\u001b[0m\u001b[0m\n\u001b[1;32m      9\u001b[0m         \u001b[0;32mreturn\u001b[0m \u001b[0;34m'Decorator for {}'\u001b[0m\u001b[0;34m.\u001b[0m\u001b[0mformat\u001b[0m\u001b[0;34m(\u001b[0m\u001b[0mself\u001b[0m\u001b[0;34m.\u001b[0m\u001b[0m_func\u001b[0m\u001b[0;34m.\u001b[0m\u001b[0m__name__\u001b[0m\u001b[0;34m)\u001b[0m\u001b[0;34m\u001b[0m\u001b[0m\n",
      "\u001b[0;31mTypeError\u001b[0m: calc() missing 1 required positional argument: 'y'"
     ]
    }
   ],
   "source": [
    "c = Calculator(10)\n",
    "c.calc(2, 3)"
   ]
  },
  {
   "cell_type": "markdown",
   "metadata": {},
   "source": [
    "## Decorator as function for class methods\n",
    "\n",
    "They were much better then class decorator.\n",
    "Причина в том, что при реализации декоратора как класса при обращении к задекорированному методу вызывается метод __call__ декоратора, которому передается в качестве self собственно сам декоратор. Поэтому задекорированный метод не может получить ссылку на свой родной объект. Таким образом реалзиация декоратора в виде функции более предпочтительна."
   ]
  },
  {
   "cell_type": "code",
   "execution_count": 7,
   "metadata": {
    "collapsed": true
   },
   "outputs": [],
   "source": [
    "def my_decorator(func):\n",
    "    def wrapper(*args, **kwargs):\n",
    "        print('Called {} with args: {} and kwargs: {}'.format(func.__name__, args, kwargs))\n",
    "        return func(*args, **kwargs)\n",
    "    return wrapper"
   ]
  },
  {
   "cell_type": "code",
   "execution_count": 9,
   "metadata": {
    "collapsed": false
   },
   "outputs": [],
   "source": [
    "@my_decorator\n",
    "def func(x, y):\n",
    "    return x ** y"
   ]
  },
  {
   "cell_type": "code",
   "execution_count": 10,
   "metadata": {
    "collapsed": false
   },
   "outputs": [
    {
     "name": "stdout",
     "output_type": "stream",
     "text": [
      "Called func with args: (5, 7) and kwargs: {}\n"
     ]
    },
    {
     "data": {
      "text/plain": [
       "78125"
      ]
     },
     "execution_count": 10,
     "metadata": {},
     "output_type": "execute_result"
    }
   ],
   "source": [
    "func(5, 7)"
   ]
  },
  {
   "cell_type": "code",
   "execution_count": 12,
   "metadata": {
    "collapsed": false
   },
   "outputs": [],
   "source": [
    "class C:\n",
    "    def __init__(self, coef):\n",
    "        self.coef = coef\n",
    "    @my_decorator\n",
    "    def calc(self, x, y):\n",
    "        return self.coef * x * y"
   ]
  },
  {
   "cell_type": "code",
   "execution_count": 13,
   "metadata": {
    "collapsed": false
   },
   "outputs": [
    {
     "name": "stdout",
     "output_type": "stream",
     "text": [
      "Called calc with args: (<__main__.C object at 0x7fbe6f77bf60>, 12, 17) and kwargs: {}\n"
     ]
    },
    {
     "data": {
      "text/plain": [
       "612"
      ]
     },
     "execution_count": 13,
     "metadata": {},
     "output_type": "execute_result"
    }
   ],
   "source": [
    "c = C(3)\n",
    "c.calc(12, 17)"
   ]
  },
  {
   "cell_type": "markdown",
   "metadata": {},
   "source": [
    "# Декораторы классов\n",
    "Появлились в 2.6 и в 3.0. Роль частично перекликается с метаклассами. "
   ]
  },
  {
   "cell_type": "code",
   "execution_count": 15,
   "metadata": {
    "collapsed": true
   },
   "outputs": [],
   "source": [
    "def decorator(cls):\n",
    "    class Wrapper(object):\n",
    "        def __init__(self, *args):\n",
    "            print('Init wrapper for {} with {}'.format(cls, args))\n",
    "            self.wrapped = cls(*args)\n",
    "        def __getattr__(self, name):\n",
    "            return getattr(self.wrapped, name)\n",
    "    return Wrapper"
   ]
  },
  {
   "cell_type": "code",
   "execution_count": 16,
   "metadata": {
    "collapsed": true
   },
   "outputs": [],
   "source": [
    "@decorator\n",
    "class C(object):\n",
    "    def __init__(self, x, y):\n",
    "        self.attr = 'spam'\n",
    "        self.x = x\n",
    "        self.y = y"
   ]
  },
  {
   "cell_type": "code",
   "execution_count": 18,
   "metadata": {
    "collapsed": false
   },
   "outputs": [
    {
     "name": "stdout",
     "output_type": "stream",
     "text": [
      "Init wrapper for <class '__main__.C'> with (6, 7)\n",
      "spam\n",
      "<class '__main__.decorator.<locals>.Wrapper'>\n"
     ]
    }
   ],
   "source": [
    "c = C(6, 7)\n",
    "print(c.attr)\n",
    "print(type(c))"
   ]
  },
  {
   "cell_type": "markdown",
   "metadata": {},
   "source": [
    "## Поддержка нескольких экземпляров\n",
    "Пример некорректного декоратора"
   ]
  },
  {
   "cell_type": "code",
   "execution_count": 21,
   "metadata": {
    "collapsed": true
   },
   "outputs": [],
   "source": [
    "class Decorator:\n",
    "    def __init__(self, cls):\n",
    "        self.cls = cls\n",
    "    def __call__(self, *args):\n",
    "        self.wrapped = self.cls(*args)\n",
    "        print('Wrapped object is {}'.format(self.wrapped))\n",
    "        return self\n",
    "    def __getattr__(self, attr):\n",
    "        return getattr(self.wrapped, attr)"
   ]
  },
  {
   "cell_type": "code",
   "execution_count": 22,
   "metadata": {
    "collapsed": true
   },
   "outputs": [],
   "source": [
    "@Decorator\n",
    "class C:\n",
    "    def __init__(self, x, y):\n",
    "        self.x = x\n",
    "        self.y = y\n",
    "    def __str__(self):\n",
    "        return 'x={}, y={}'.format(self.x, self.y)"
   ]
  },
  {
   "cell_type": "code",
   "execution_count": 23,
   "metadata": {
    "collapsed": false
   },
   "outputs": [
    {
     "name": "stdout",
     "output_type": "stream",
     "text": [
      "Wrapped object is x=1, y=2\n"
     ]
    }
   ],
   "source": [
    "x = C(1, 2)"
   ]
  },
  {
   "cell_type": "code",
   "execution_count": 24,
   "metadata": {
    "collapsed": false
   },
   "outputs": [
    {
     "name": "stdout",
     "output_type": "stream",
     "text": [
      "Wrapped object is x=2, y=3\n"
     ]
    }
   ],
   "source": [
    "y = C(2, 3)"
   ]
  },
  {
   "cell_type": "code",
   "execution_count": 28,
   "metadata": {
    "collapsed": false
   },
   "outputs": [
    {
     "data": {
      "text/plain": [
       "True"
      ]
     },
     "execution_count": 28,
     "metadata": {},
     "output_type": "execute_result"
    }
   ],
   "source": [
    "x.wrapped is y.wrapped  # wrapped rewrited"
   ]
  },
  {
   "cell_type": "markdown",
   "metadata": {},
   "source": [
    "Возможные решения:"
   ]
  },
  {
   "cell_type": "code",
   "execution_count": 29,
   "metadata": {
    "collapsed": true
   },
   "outputs": [],
   "source": [
    "def decorator1(cls):\n",
    "    class Wrapper:\n",
    "        def __init__(self, *args):\n",
    "            self.wrapped = cls(*args)\n",
    "    return Wrapper"
   ]
  },
  {
   "cell_type": "code",
   "execution_count": 30,
   "metadata": {
    "collapsed": true
   },
   "outputs": [],
   "source": [
    "@decorator1\n",
    "class C:\n",
    "    def __init__(self, x, y):\n",
    "        self.x = x\n",
    "        self.y = y\n",
    "    def __str__(self):\n",
    "        return 'x={}, y={}'.format(self.x, self.y)"
   ]
  },
  {
   "cell_type": "code",
   "execution_count": 33,
   "metadata": {
    "collapsed": false
   },
   "outputs": [
    {
     "data": {
      "text/plain": [
       "False"
      ]
     },
     "execution_count": 33,
     "metadata": {},
     "output_type": "execute_result"
    }
   ],
   "source": [
    "x = C(3, 4)\n",
    "y = C(5, 6)\n",
    "x.wrapped is y.wrapped"
   ]
  },
  {
   "cell_type": "code",
   "execution_count": 34,
   "metadata": {
    "collapsed": true
   },
   "outputs": [],
   "source": [
    "class Wrapper(object):\n",
    "    def __init__(self, wrapped):\n",
    "        self.wrapped = wrapped\n",
    "\n",
    "def decorator2(cls):\n",
    "    def on_call(*args):\n",
    "        return Wrapper(cls(*args))\n",
    "    return on_call"
   ]
  },
  {
   "cell_type": "code",
   "execution_count": 35,
   "metadata": {
    "collapsed": true
   },
   "outputs": [],
   "source": [
    "@decorator2\n",
    "class C:\n",
    "    def __init__(self, x, y):\n",
    "        self.x = x\n",
    "        self.y = y\n",
    "    def __str__(self):\n",
    "        return 'x={}, y={}'.format(self.x, self.y)"
   ]
  },
  {
   "cell_type": "code",
   "execution_count": 36,
   "metadata": {
    "collapsed": false
   },
   "outputs": [
    {
     "data": {
      "text/plain": [
       "False"
      ]
     },
     "execution_count": 36,
     "metadata": {},
     "output_type": "execute_result"
    }
   ],
   "source": [
    "x = C(5, 6)\n",
    "y = C(7, 8)\n",
    "x.wrapped is y.wrapped"
   ]
  },
  {
   "cell_type": "markdown",
   "metadata": {},
   "source": [
    "## Вложенность декораторов\n",
    "Декораторы применяются в обратном порядке (самый близкий к функции будет применен самым первым)"
   ]
  },
  {
   "cell_type": "code",
   "execution_count": 40,
   "metadata": {
    "collapsed": true
   },
   "outputs": [],
   "source": [
    "def decorator_a(func):\n",
    "    print('Called decorator A for {}'.format(func))\n",
    "    def wrapper(*args):\n",
    "        print('Wrapper A called')\n",
    "        return func(*args)\n",
    "    return wrapper\n",
    "\n",
    "def decorator_b(func):\n",
    "    print('Called decorator B for {}'.format(func))\n",
    "    def wrapper(*args):\n",
    "        print('Wrapper B called')\n",
    "        return func(*args)\n",
    "    return wrapper\n",
    "\n",
    "def decorator_c(func):\n",
    "    print('Called decorator C for {}'.format(func))\n",
    "    def wrapper(*args):\n",
    "        print('Wrapper C called')\n",
    "        return func(*args)\n",
    "    return wrapper"
   ]
  },
  {
   "cell_type": "code",
   "execution_count": 41,
   "metadata": {
    "collapsed": false
   },
   "outputs": [
    {
     "name": "stdout",
     "output_type": "stream",
     "text": [
      "Called decorator C for <function f at 0x7fbe6ee80d08>\n",
      "Called decorator B for <function decorator_c.<locals>.wrapper at 0x7fbe6ee80730>\n",
      "Called decorator A for <function decorator_b.<locals>.wrapper at 0x7fbe6ee80400>\n"
     ]
    }
   ],
   "source": [
    "@decorator_a\n",
    "@decorator_b\n",
    "@decorator_c\n",
    "def f(x):\n",
    "    print('Called f({})'.format(x))\n",
    "    return x"
   ]
  },
  {
   "cell_type": "code",
   "execution_count": 42,
   "metadata": {
    "collapsed": false
   },
   "outputs": [
    {
     "name": "stdout",
     "output_type": "stream",
     "text": [
      "Wrapper A called\n",
      "Wrapper B called\n",
      "Wrapper C called\n",
      "Called f(4)\n"
     ]
    },
    {
     "data": {
      "text/plain": [
       "4"
      ]
     },
     "execution_count": 42,
     "metadata": {},
     "output_type": "execute_result"
    }
   ],
   "source": [
    "f(4)"
   ]
  },
  {
   "cell_type": "markdown",
   "metadata": {},
   "source": [
    "## Аргументы декораторов\n",
    "Все декораторы могут принимать дополнительные аргументы, которые позволяют как-то влиять на создание и поведение обертки."
   ]
  },
  {
   "cell_type": "code",
   "execution_count": 43,
   "metadata": {
    "collapsed": true
   },
   "outputs": [],
   "source": [
    "def decorator(*args, **kwargs):\n",
    "    print('Decorator args: ', args)\n",
    "    print('Decorator kwargs: ', kwargs)\n",
    "    def actual_decorator(func):\n",
    "        print('Called actual_decorator for {}'.format(func))\n",
    "        def wrapper(*args, **kwargs):\n",
    "            print('Wrapper called with {} and {}'.format(args, kwargs))\n",
    "            return func(*args, **kwargs)\n",
    "        return wrapper\n",
    "    return actual_decorator"
   ]
  },
  {
   "cell_type": "code",
   "execution_count": 51,
   "metadata": {
    "collapsed": false
   },
   "outputs": [
    {
     "name": "stdout",
     "output_type": "stream",
     "text": [
      "Decorator args:  ()\n",
      "Decorator kwargs:  {}\n",
      "Called actual_decorator for <function f1 at 0x7fbe6eef42f0>\n"
     ]
    }
   ],
   "source": [
    "@decorator() # обязательно вызов в данном случае, декоратор будет работать некорректно\n",
    "def f1(x, base=2):\n",
    "    return int(x, base=base)"
   ]
  },
  {
   "cell_type": "code",
   "execution_count": 47,
   "metadata": {
    "collapsed": false
   },
   "outputs": [
    {
     "name": "stdout",
     "output_type": "stream",
     "text": [
      "Called actual_decorator for 10\n"
     ]
    },
    {
     "data": {
      "text/plain": [
       "<function __main__.decorator.<locals>.actual_decorator.<locals>.wrapper>"
      ]
     },
     "execution_count": 47,
     "metadata": {},
     "output_type": "execute_result"
    }
   ],
   "source": [
    "f1(10)"
   ]
  },
  {
   "cell_type": "code",
   "execution_count": 48,
   "metadata": {
    "collapsed": false
   },
   "outputs": [
    {
     "name": "stdout",
     "output_type": "stream",
     "text": [
      "Decorator args:  (10,)\n",
      "Decorator kwargs:  {'base': 12}\n",
      "Called actual_decorator for <function f2 at 0x7fbe6ee806a8>\n"
     ]
    }
   ],
   "source": [
    "@decorator(10, base=12)\n",
    "def f2(x, y, value=12):\n",
    "    return x * y * value"
   ]
  },
  {
   "cell_type": "code",
   "execution_count": 50,
   "metadata": {
    "collapsed": false
   },
   "outputs": [
    {
     "name": "stdout",
     "output_type": "stream",
     "text": [
      "Wrapper called with (1, 2) and {}\n"
     ]
    },
    {
     "data": {
      "text/plain": [
       "24"
      ]
     },
     "execution_count": 50,
     "metadata": {},
     "output_type": "execute_result"
    }
   ],
   "source": [
    "f2(1, 2)"
   ]
  },
  {
   "cell_type": "markdown",
   "metadata": {},
   "source": [
    "## Управление функциями или классами"
   ]
  },
  {
   "cell_type": "code",
   "execution_count": 57,
   "metadata": {
    "collapsed": true
   },
   "outputs": [],
   "source": [
    "decorated = set()\n",
    "def decorator(obj):\n",
    "    decorated.add(obj)\n",
    "    obj._decorated = True\n",
    "    print('{} was registered'.format(obj))\n",
    "    return obj"
   ]
  },
  {
   "cell_type": "code",
   "execution_count": 58,
   "metadata": {
    "collapsed": false
   },
   "outputs": [
    {
     "name": "stdout",
     "output_type": "stream",
     "text": [
      "<function f at 0x7fbe6f75aea0> was registered\n"
     ]
    }
   ],
   "source": [
    "@decorator\n",
    "def f(x):\n",
    "    return x ** 2"
   ]
  },
  {
   "cell_type": "code",
   "execution_count": 65,
   "metadata": {
    "collapsed": false
   },
   "outputs": [
    {
     "data": {
      "text/plain": [
       "True"
      ]
     },
     "execution_count": 65,
     "metadata": {},
     "output_type": "execute_result"
    }
   ],
   "source": [
    "f._decorated"
   ]
  },
  {
   "cell_type": "code",
   "execution_count": 61,
   "metadata": {
    "collapsed": false
   },
   "outputs": [
    {
     "name": "stdout",
     "output_type": "stream",
     "text": [
      "<class '__main__.C'> was registered\n"
     ]
    }
   ],
   "source": [
    "@decorator\n",
    "class C:\n",
    "    pass"
   ]
  },
  {
   "cell_type": "code",
   "execution_count": 66,
   "metadata": {
    "collapsed": false
   },
   "outputs": [
    {
     "data": {
      "text/plain": [
       "True"
      ]
     },
     "execution_count": 66,
     "metadata": {},
     "output_type": "execute_result"
    }
   ],
   "source": [
    "C._decorated"
   ]
  },
  {
   "cell_type": "code",
   "execution_count": 67,
   "metadata": {
    "collapsed": false
   },
   "outputs": [
    {
     "name": "stdout",
     "output_type": "stream",
     "text": [
      "{<function f at 0x7fbe6f75aea0>, <class '__main__.C'>}\n"
     ]
    }
   ],
   "source": [
    "print(decorated)"
   ]
  },
  {
   "cell_type": "markdown",
   "metadata": {},
   "source": [
    "# Программирование декораторов функций\n",
    "##  Трассировка вызовов"
   ]
  },
  {
   "cell_type": "code",
   "execution_count": 70,
   "metadata": {
    "collapsed": false
   },
   "outputs": [],
   "source": [
    "class tracer:\n",
    "    def __init__(self, func):\n",
    "        self.calls = 0\n",
    "        self.func = func\n",
    "    def __call__(self, *args, **kwargs):\n",
    "        self.calls += 1\n",
    "        print('{fname} was called {calls} time{plural}'.format(fname=self.func.__name__, \n",
    "                                                               calls=self.calls, \n",
    "                                                               plural='' if self.calls == 1 else 's'))\n",
    "        return self.func(*args, **kwargs)"
   ]
  },
  {
   "cell_type": "code",
   "execution_count": 71,
   "metadata": {
    "collapsed": true
   },
   "outputs": [],
   "source": [
    "@tracer\n",
    "def spam(a, b, c):\n",
    "    return a + b + c"
   ]
  },
  {
   "cell_type": "code",
   "execution_count": 74,
   "metadata": {
    "collapsed": false
   },
   "outputs": [
    {
     "name": "stdout",
     "output_type": "stream",
     "text": [
      "spam was called 3 times\n"
     ]
    },
    {
     "data": {
      "text/plain": [
       "6"
      ]
     },
     "execution_count": 74,
     "metadata": {},
     "output_type": "execute_result"
    }
   ],
   "source": [
    "spam(1, 2, 3)"
   ]
  },
  {
   "cell_type": "code",
   "execution_count": 75,
   "metadata": {
    "collapsed": false
   },
   "outputs": [
    {
     "data": {
      "text/plain": [
       "3"
      ]
     },
     "execution_count": 75,
     "metadata": {},
     "output_type": "execute_result"
    }
   ],
   "source": [
    "spam.calls"
   ]
  },
  {
   "cell_type": "code",
   "execution_count": 76,
   "metadata": {
    "collapsed": false
   },
   "outputs": [
    {
     "data": {
      "text/plain": [
       "__main__.tracer"
      ]
     },
     "execution_count": 76,
     "metadata": {},
     "output_type": "execute_result"
    }
   ],
   "source": [
    "type(spam)"
   ]
  },
  {
   "cell_type": "markdown",
   "metadata": {},
   "source": [
    "## Сохранения состояния декоратора\n",
    "Вариантов несколько:\n",
    "\n",
    "* декораторы-класс (см. выше), но тогда проблемы с декорированием методов\n",
    "* глобальные переменные (с инструкцией global)\n",
    "* замыкания\n",
    "* атрибуты функций"
   ]
  },
  {
   "cell_type": "markdown",
   "metadata": {},
   "source": [
    "### Декораторы-классы"
   ]
  },
  {
   "cell_type": "code",
   "execution_count": 78,
   "metadata": {
    "collapsed": true
   },
   "outputs": [],
   "source": [
    "class tracer:\n",
    "    def __init__(self, func):\n",
    "        self.calls = 0\n",
    "        self.func = func\n",
    "    def __call__(self, *args, **kwargs):\n",
    "        self.calls += 1\n",
    "        print('{fname} was called {calls} time{plural}'.format(fname=self.func.__name__, \n",
    "                                                               calls=self.calls, \n",
    "                                                               plural='' if self.calls == 1 else 's'))\n",
    "        return self.func(*args, **kwargs)"
   ]
  },
  {
   "cell_type": "code",
   "execution_count": 85,
   "metadata": {
    "collapsed": false
   },
   "outputs": [],
   "source": [
    "@tracer\n",
    "def spam(a, b, c=10):\n",
    "    return (a + b) * c"
   ]
  },
  {
   "cell_type": "code",
   "execution_count": 81,
   "metadata": {
    "collapsed": true
   },
   "outputs": [],
   "source": [
    "@tracer\n",
    "def egg(a, b):\n",
    "    return a ** b"
   ]
  },
  {
   "cell_type": "code",
   "execution_count": 86,
   "metadata": {
    "collapsed": false
   },
   "outputs": [
    {
     "name": "stdout",
     "output_type": "stream",
     "text": [
      "spam was called 1 time\n",
      "spam was called 2 times\n",
      "spam was called 3 times\n",
      "Spam called:  3\n"
     ]
    }
   ],
   "source": [
    "spam(1, 2)\n",
    "spam(2, 3, c=12)\n",
    "spam(3, 4)\n",
    "print('Spam called: ', spam.calls)"
   ]
  },
  {
   "cell_type": "code",
   "execution_count": 87,
   "metadata": {
    "collapsed": false
   },
   "outputs": [
    {
     "name": "stdout",
     "output_type": "stream",
     "text": [
      "egg was called 1 time\n",
      "egg was called 2 times\n",
      "egg was called 3 times\n",
      "Egg called: 3\n"
     ]
    }
   ],
   "source": [
    "egg(1, 2)\n",
    "egg(2, 3)\n",
    "egg(2, 2)\n",
    "print('Egg called:', egg.calls)"
   ]
  },
  {
   "cell_type": "markdown",
   "metadata": {},
   "source": [
    "### Глобальные переменные"
   ]
  },
  {
   "cell_type": "code",
   "execution_count": 93,
   "metadata": {
    "collapsed": true
   },
   "outputs": [],
   "source": [
    "calls = 0\n",
    "def tracer(func):\n",
    "    def wrapper(*args, **kwargs):\n",
    "        global calls\n",
    "        calls += 1\n",
    "        print('Functions were called {calls} time{plural}'.format(calls=calls, plural='' if calls == 1 else 's'))\n",
    "        return func(*args, **kwargs)\n",
    "    return wrapper"
   ]
  },
  {
   "cell_type": "code",
   "execution_count": 94,
   "metadata": {
    "collapsed": true
   },
   "outputs": [],
   "source": [
    "@tracer\n",
    "def spam(a, b):\n",
    "    return a + b"
   ]
  },
  {
   "cell_type": "code",
   "execution_count": 95,
   "metadata": {
    "collapsed": true
   },
   "outputs": [],
   "source": [
    "@tracer\n",
    "def egg(a, b):\n",
    "    return a * b"
   ]
  },
  {
   "cell_type": "code",
   "execution_count": 96,
   "metadata": {
    "collapsed": false
   },
   "outputs": [
    {
     "name": "stdout",
     "output_type": "stream",
     "text": [
      "Functions were called 1 time\n"
     ]
    },
    {
     "data": {
      "text/plain": [
       "3"
      ]
     },
     "execution_count": 96,
     "metadata": {},
     "output_type": "execute_result"
    }
   ],
   "source": [
    "spam(1, 2)"
   ]
  },
  {
   "cell_type": "code",
   "execution_count": 97,
   "metadata": {
    "collapsed": false
   },
   "outputs": [
    {
     "name": "stdout",
     "output_type": "stream",
     "text": [
      "Functions were called 2 times\n"
     ]
    },
    {
     "data": {
      "text/plain": [
       "2"
      ]
     },
     "execution_count": 97,
     "metadata": {},
     "output_type": "execute_result"
    }
   ],
   "source": [
    "egg(1, 2)"
   ]
  },
  {
   "cell_type": "markdown",
   "metadata": {},
   "source": [
    "Как вариант, можно использовать, например, глобальный словарь"
   ]
  },
  {
   "cell_type": "code",
   "execution_count": 98,
   "metadata": {
    "collapsed": true
   },
   "outputs": [],
   "source": [
    "calls = {}\n",
    "def tracer(func):\n",
    "    global calls\n",
    "    calls.setdefault(func, 0)\n",
    "    def wrapper(*args, **kwargs):\n",
    "        global calls\n",
    "        calls[func] += 1\n",
    "        print('Functions were called {calls} time{plural}'.format(calls=calls[func], \n",
    "                                                                  plural='' if calls[func] == 1 else 's'))\n",
    "        return func(*args, **kwargs)\n",
    "    return wrapper"
   ]
  },
  {
   "cell_type": "code",
   "execution_count": 99,
   "metadata": {
    "collapsed": true
   },
   "outputs": [],
   "source": [
    "@tracer\n",
    "def f(x):\n",
    "    return x ** 2"
   ]
  },
  {
   "cell_type": "code",
   "execution_count": 101,
   "metadata": {
    "collapsed": true
   },
   "outputs": [],
   "source": [
    "@tracer\n",
    "def g(x):\n",
    "    return x ** 3"
   ]
  },
  {
   "cell_type": "code",
   "execution_count": 102,
   "metadata": {
    "collapsed": false
   },
   "outputs": [
    {
     "name": "stdout",
     "output_type": "stream",
     "text": [
      "Functions were called 1 time\n"
     ]
    },
    {
     "data": {
      "text/plain": [
       "1"
      ]
     },
     "execution_count": 102,
     "metadata": {},
     "output_type": "execute_result"
    }
   ],
   "source": [
    "f(1)"
   ]
  },
  {
   "cell_type": "code",
   "execution_count": 103,
   "metadata": {
    "collapsed": false
   },
   "outputs": [
    {
     "name": "stdout",
     "output_type": "stream",
     "text": [
      "Functions were called 1 time\n"
     ]
    },
    {
     "data": {
      "text/plain": [
       "1"
      ]
     },
     "execution_count": 103,
     "metadata": {},
     "output_type": "execute_result"
    }
   ],
   "source": [
    "g(1)"
   ]
  },
  {
   "cell_type": "code",
   "execution_count": 104,
   "metadata": {
    "collapsed": false
   },
   "outputs": [
    {
     "data": {
      "text/plain": [
       "{<function __main__.f>: 1, <function __main__.g>: 1}"
      ]
     },
     "execution_count": 104,
     "metadata": {},
     "output_type": "execute_result"
    }
   ],
   "source": [
    "calls"
   ]
  },
  {
   "cell_type": "markdown",
   "metadata": {},
   "source": [
    "### Замыкания"
   ]
  },
  {
   "cell_type": "code",
   "execution_count": 105,
   "metadata": {
    "collapsed": true
   },
   "outputs": [],
   "source": [
    "def tracer(func):\n",
    "    calls = 0\n",
    "    def wrapper(*args, **kwargs):\n",
    "        nonlocal calls  # python 3 only\n",
    "        calls += 1\n",
    "        print('{f} were called {calls} time{plural}'.format(f=func.__name__, calls=calls, \n",
    "                                                            plural='' if calls == 1 else 's'))\n",
    "        return func(*args, **kwargs)\n",
    "    return wrapper"
   ]
  },
  {
   "cell_type": "code",
   "execution_count": 111,
   "metadata": {
    "collapsed": true
   },
   "outputs": [],
   "source": [
    "@tracer\n",
    "def f(x):\n",
    "    return x ** 2"
   ]
  },
  {
   "cell_type": "code",
   "execution_count": 112,
   "metadata": {
    "collapsed": true
   },
   "outputs": [],
   "source": [
    "@tracer\n",
    "def g(x):\n",
    "    return x ** 3"
   ]
  },
  {
   "cell_type": "code",
   "execution_count": 113,
   "metadata": {
    "collapsed": false
   },
   "outputs": [
    {
     "name": "stdout",
     "output_type": "stream",
     "text": [
      "f were called 1 time\n",
      "f were called 2 times\n",
      "g were called 1 time\n"
     ]
    },
    {
     "data": {
      "text/plain": [
       "1000"
      ]
     },
     "execution_count": 113,
     "metadata": {},
     "output_type": "execute_result"
    }
   ],
   "source": [
    "f(1)\n",
    "f(3)\n",
    "g(10)"
   ]
  },
  {
   "cell_type": "markdown",
   "metadata": {},
   "source": [
    "Но теперь нельзя напрямую узнать, сколько вызовов сделано каждой функцией."
   ]
  },
  {
   "cell_type": "markdown",
   "metadata": {},
   "source": [
    "### Атрибуты функции\n",
    " Работает и в 2, и в 3"
   ]
  },
  {
   "cell_type": "code",
   "execution_count": 116,
   "metadata": {
    "collapsed": true
   },
   "outputs": [],
   "source": [
    "def tracer(func):\n",
    "    def wrapper(*args, **kwargs):\n",
    "        wrapper.calls += 1\n",
    "        print('{f} were called {calls} time{plural}'.format(f=func.__name__, \n",
    "                                                            calls=wrapper.calls, \n",
    "                                                            plural='' if wrapper.calls == 1 else 's'))\n",
    "        return func(*args, **kwargs)\n",
    "    wrapper.calls = 0\n",
    "    return wrapper"
   ]
  },
  {
   "cell_type": "code",
   "execution_count": 117,
   "metadata": {
    "collapsed": true
   },
   "outputs": [],
   "source": [
    "@tracer\n",
    "def f(x):\n",
    "    return x ** 2\n",
    "\n",
    "@tracer\n",
    "def g(x):\n",
    "    return x ** 3"
   ]
  },
  {
   "cell_type": "code",
   "execution_count": 118,
   "metadata": {
    "collapsed": false
   },
   "outputs": [
    {
     "name": "stdout",
     "output_type": "stream",
     "text": [
      "f were called 1 time\n",
      "f were called 2 times\n",
      "g were called 1 time\n"
     ]
    },
    {
     "data": {
      "text/plain": [
       "1000"
      ]
     },
     "execution_count": 118,
     "metadata": {},
     "output_type": "execute_result"
    }
   ],
   "source": [
    "f(1)\n",
    "f(3)\n",
    "g(10)"
   ]
  },
  {
   "cell_type": "code",
   "execution_count": 119,
   "metadata": {
    "collapsed": false
   },
   "outputs": [
    {
     "data": {
      "text/plain": [
       "(2, 1)"
      ]
     },
     "execution_count": 119,
     "metadata": {},
     "output_type": "execute_result"
    }
   ],
   "source": [
    "f.calls, g.calls"
   ]
  },
  {
   "cell_type": "markdown",
   "metadata": {},
   "source": [
    "## Промахи с классами: декорирование методов"
   ]
  },
  {
   "cell_type": "code",
   "execution_count": 120,
   "metadata": {
    "collapsed": true
   },
   "outputs": [],
   "source": [
    "class tracer:\n",
    "    def __init__(self, func):\n",
    "        self.calls = 0\n",
    "        self.func = func\n",
    "    def __call__(self, *args, **kwargs):\n",
    "        self.calls += 1\n",
    "        print('{fname} was called {calls} time{plural}'.format(fname=self.func.__name__, \n",
    "                                                               calls=self.calls, \n",
    "                                                               plural='' if self.calls == 1 else 's'))\n",
    "        return self.func(*args, **kwargs)"
   ]
  },
  {
   "cell_type": "code",
   "execution_count": 130,
   "metadata": {
    "collapsed": true
   },
   "outputs": [],
   "source": [
    "class Person(object):\n",
    "    def __init__(self, name, pay):\n",
    "        self.name = name\n",
    "        self.pay = pay\n",
    "    \n",
    "    @tracer\n",
    "    def give_raise(self, percent):\n",
    "        self.pay *= (1.0 + percent)\n",
    "    \n",
    "    @tracer\n",
    "    def last_name(self):\n",
    "        return self.name.split()[-1]\n"
   ]
  },
  {
   "cell_type": "code",
   "execution_count": 131,
   "metadata": {
    "collapsed": true
   },
   "outputs": [],
   "source": [
    "bob = Person('Bob Smith', 10000)"
   ]
  },
  {
   "cell_type": "code",
   "execution_count": 132,
   "metadata": {
    "collapsed": false
   },
   "outputs": [
    {
     "name": "stdout",
     "output_type": "stream",
     "text": [
      "give_raise was called 1 time\n"
     ]
    },
    {
     "ename": "TypeError",
     "evalue": "give_raise() missing 1 required positional argument: 'percent'",
     "output_type": "error",
     "traceback": [
      "\u001b[0;31m---------------------------------------------------------------------------\u001b[0m",
      "\u001b[0;31mTypeError\u001b[0m                                 Traceback (most recent call last)",
      "\u001b[0;32m<ipython-input-132-672ffcd0a7b6>\u001b[0m in \u001b[0;36m<module>\u001b[0;34m()\u001b[0m\n\u001b[0;32m----> 1\u001b[0;31m \u001b[0mbob\u001b[0m\u001b[0;34m.\u001b[0m\u001b[0mgive_raise\u001b[0m\u001b[0;34m(\u001b[0m\u001b[0;36m0.2\u001b[0m\u001b[0;34m)\u001b[0m\u001b[0;34m\u001b[0m\u001b[0m\n\u001b[0m",
      "\u001b[0;32m<ipython-input-120-cbf3dc779449>\u001b[0m in \u001b[0;36m__call__\u001b[0;34m(self, *args, **kwargs)\u001b[0m\n\u001b[1;32m      8\u001b[0m                                                                \u001b[0mcalls\u001b[0m\u001b[0;34m=\u001b[0m\u001b[0mself\u001b[0m\u001b[0;34m.\u001b[0m\u001b[0mcalls\u001b[0m\u001b[0;34m,\u001b[0m\u001b[0;34m\u001b[0m\u001b[0m\n\u001b[1;32m      9\u001b[0m                                                                plural='' if self.calls == 1 else 's'))\n\u001b[0;32m---> 10\u001b[0;31m         \u001b[0;32mreturn\u001b[0m \u001b[0mself\u001b[0m\u001b[0;34m.\u001b[0m\u001b[0mfunc\u001b[0m\u001b[0;34m(\u001b[0m\u001b[0;34m*\u001b[0m\u001b[0margs\u001b[0m\u001b[0;34m,\u001b[0m \u001b[0;34m**\u001b[0m\u001b[0mkwargs\u001b[0m\u001b[0;34m)\u001b[0m\u001b[0;34m\u001b[0m\u001b[0m\n\u001b[0m",
      "\u001b[0;31mTypeError\u001b[0m: give_raise() missing 1 required positional argument: 'percent'"
     ]
    }
   ],
   "source": [
    "bob.give_raise(0.2)"
   ]
  },
  {
   "cell_type": "code",
   "execution_count": 142,
   "metadata": {
    "collapsed": false
   },
   "outputs": [
    {
     "name": "stdout",
     "output_type": "stream",
     "text": [
      "last_name was called 5 times\n"
     ]
    },
    {
     "ename": "TypeError",
     "evalue": "last_name() missing 1 required positional argument: 'self'",
     "output_type": "error",
     "traceback": [
      "\u001b[0;31m---------------------------------------------------------------------------\u001b[0m",
      "\u001b[0;31mTypeError\u001b[0m                                 Traceback (most recent call last)",
      "\u001b[0;32m<ipython-input-142-6f4aa1095546>\u001b[0m in \u001b[0;36m<module>\u001b[0;34m()\u001b[0m\n\u001b[0;32m----> 1\u001b[0;31m \u001b[0mbob\u001b[0m\u001b[0;34m.\u001b[0m\u001b[0mlast_name\u001b[0m\u001b[0;34m(\u001b[0m\u001b[0;34m)\u001b[0m\u001b[0;34m\u001b[0m\u001b[0m\n\u001b[0m",
      "\u001b[0;32m<ipython-input-120-cbf3dc779449>\u001b[0m in \u001b[0;36m__call__\u001b[0;34m(self, *args, **kwargs)\u001b[0m\n\u001b[1;32m      8\u001b[0m                                                                \u001b[0mcalls\u001b[0m\u001b[0;34m=\u001b[0m\u001b[0mself\u001b[0m\u001b[0;34m.\u001b[0m\u001b[0mcalls\u001b[0m\u001b[0;34m,\u001b[0m\u001b[0;34m\u001b[0m\u001b[0m\n\u001b[1;32m      9\u001b[0m                                                                plural='' if self.calls == 1 else 's'))\n\u001b[0;32m---> 10\u001b[0;31m         \u001b[0;32mreturn\u001b[0m \u001b[0mself\u001b[0m\u001b[0;34m.\u001b[0m\u001b[0mfunc\u001b[0m\u001b[0;34m(\u001b[0m\u001b[0;34m*\u001b[0m\u001b[0margs\u001b[0m\u001b[0;34m,\u001b[0m \u001b[0;34m**\u001b[0m\u001b[0mkwargs\u001b[0m\u001b[0;34m)\u001b[0m\u001b[0;34m\u001b[0m\u001b[0m\n\u001b[0m",
      "\u001b[0;31mTypeError\u001b[0m: last_name() missing 1 required positional argument: 'self'"
     ]
    }
   ],
   "source": [
    "bob.last_name()"
   ]
  },
  {
   "cell_type": "markdown",
   "metadata": {},
   "source": [
    "Дело в том, что декоратор при вызове __call__ передает в качестве self самого себя (оно и логично - все-таки объект). Соответственно, обернутый метод становится *unbound*, т.е. вызывается отдельно от класса и не получает аргумента self. Это конечно, можно обойти (см. ниже), но надо ли оно."
   ]
  },
  {
   "cell_type": "code",
   "execution_count": 134,
   "metadata": {
    "collapsed": false
   },
   "outputs": [
    {
     "name": "stdout",
     "output_type": "stream",
     "text": [
      "last_name was called 2 times\n"
     ]
    },
    {
     "data": {
      "text/plain": [
       "'Smith'"
      ]
     },
     "execution_count": 134,
     "metadata": {},
     "output_type": "execute_result"
    }
   ],
   "source": [
    "bob.last_name(bob)"
   ]
  },
  {
   "cell_type": "code",
   "execution_count": 139,
   "metadata": {
    "collapsed": false
   },
   "outputs": [
    {
     "name": "stdout",
     "output_type": "stream",
     "text": [
      "give_raise was called 4 times\n"
     ]
    },
    {
     "data": {
      "text/plain": [
       "13310.000000000004"
      ]
     },
     "execution_count": 139,
     "metadata": {},
     "output_type": "execute_result"
    }
   ],
   "source": [
    "bob.give_raise(bob, .1)\n",
    "bob.pay"
   ]
  },
  {
   "cell_type": "markdown",
   "metadata": {},
   "source": [
    "### Использование вложенных функций для декорирования методов"
   ]
  },
  {
   "cell_type": "code",
   "execution_count": 143,
   "metadata": {
    "collapsed": true
   },
   "outputs": [],
   "source": [
    "def tracer(func):\n",
    "    calls = 0\n",
    "    def on_call(*args, **kwargs):\n",
    "        nonlocal calls\n",
    "        calls += 1\n",
    "        print('call %s to %s' % (calls, func.__name__))\n",
    "        return func(*args, **kwargs)\n",
    "    return on_call"
   ]
  },
  {
   "cell_type": "code",
   "execution_count": 144,
   "metadata": {
    "collapsed": true
   },
   "outputs": [],
   "source": [
    "class Person(object):\n",
    "    def __init__(self, name, pay):\n",
    "        self.name = name\n",
    "        self.pay = pay\n",
    "    \n",
    "    @tracer\n",
    "    def give_raise(self, percent):\n",
    "        self.pay *= (1.0 + percent)\n",
    "    \n",
    "    @tracer\n",
    "    def last_name(self):\n",
    "        return self.name.split()[-1]"
   ]
  },
  {
   "cell_type": "code",
   "execution_count": 145,
   "metadata": {
    "collapsed": true
   },
   "outputs": [],
   "source": [
    "bob = Person('Bob Smith', 100000)"
   ]
  },
  {
   "cell_type": "code",
   "execution_count": 146,
   "metadata": {
    "collapsed": false
   },
   "outputs": [
    {
     "name": "stdout",
     "output_type": "stream",
     "text": [
      "call 1 to give_raise\n"
     ]
    }
   ],
   "source": [
    "bob.give_raise(0.2)"
   ]
  },
  {
   "cell_type": "code",
   "execution_count": 147,
   "metadata": {
    "collapsed": false
   },
   "outputs": [
    {
     "name": "stdout",
     "output_type": "stream",
     "text": [
      "call 1 to last_name\n"
     ]
    },
    {
     "data": {
      "text/plain": [
       "'Smith'"
      ]
     },
     "execution_count": 147,
     "metadata": {},
     "output_type": "execute_result"
    }
   ],
   "source": [
    "bob.last_name()"
   ]
  },
  {
   "cell_type": "code",
   "execution_count": 148,
   "metadata": {
    "collapsed": true
   },
   "outputs": [],
   "source": [
    "sam = Person('Sam Johns', 1000000)"
   ]
  },
  {
   "cell_type": "code",
   "execution_count": 149,
   "metadata": {
    "collapsed": false
   },
   "outputs": [
    {
     "name": "stdout",
     "output_type": "stream",
     "text": [
      "call 2 to give_raise\n"
     ]
    }
   ],
   "source": [
    "sam.give_raise(0.2)"
   ]
  },
  {
   "cell_type": "code",
   "execution_count": 150,
   "metadata": {
    "collapsed": false
   },
   "outputs": [
    {
     "data": {
      "text/plain": [
       "<bound method Person.on_call of <__main__.Person object at 0x7fbe6ee9c2b0>>"
      ]
     },
     "execution_count": 150,
     "metadata": {},
     "output_type": "execute_result"
    }
   ],
   "source": [
    "sam.give_raise"
   ]
  },
  {
   "cell_type": "markdown",
   "metadata": {},
   "source": [
    "### Использование дескрипторов для декорирования методов"
   ]
  },
  {
   "cell_type": "code",
   "execution_count": 172,
   "metadata": {
    "collapsed": true
   },
   "outputs": [],
   "source": [
    "class tracer(object):\n",
    "    def __init__(self, func):\n",
    "        self.calls = 0\n",
    "        self.func = func\n",
    "    \n",
    "    def __call__(self, *args, **kwargs):\n",
    "        self.calls += 1\n",
    "        print('call %s to %s' % (self.calls, self.func.__name__))\n",
    "        return self.func(*args, **kwargs)\n",
    "    \n",
    "    def __get__(self, instance, owner):\n",
    "        return wrapper(self, instance)\n",
    "\n",
    "class wrapper:\n",
    "    def __init__(self, desc, subj):\n",
    "        print('Desc is {}'.format(desc))\n",
    "        print('Subj is {}'.format(subj))\n",
    "        self.desc = desc\n",
    "        self.subj = subj\n",
    "    def __call__(self, *args, **kwargs):\n",
    "        print('Called wrapper __call__ with {}, {}'.format(args, kwargs))\n",
    "        print('tracer for ', self.desc.func)\n",
    "        return self.desc(self.subj, *args, **kwargs)"
   ]
  },
  {
   "cell_type": "code",
   "execution_count": 173,
   "metadata": {
    "collapsed": true
   },
   "outputs": [],
   "source": [
    "@tracer\n",
    "def f(x):\n",
    "    return x ** 2"
   ]
  },
  {
   "cell_type": "code",
   "execution_count": 174,
   "metadata": {
    "collapsed": false
   },
   "outputs": [
    {
     "name": "stdout",
     "output_type": "stream",
     "text": [
      "call 1 to f\n"
     ]
    },
    {
     "data": {
      "text/plain": [
       "1"
      ]
     },
     "execution_count": 174,
     "metadata": {},
     "output_type": "execute_result"
    }
   ],
   "source": [
    "f(1)"
   ]
  },
  {
   "cell_type": "code",
   "execution_count": 175,
   "metadata": {
    "collapsed": false
   },
   "outputs": [
    {
     "data": {
      "text/plain": [
       "1"
      ]
     },
     "execution_count": 175,
     "metadata": {},
     "output_type": "execute_result"
    }
   ],
   "source": [
    "f.calls"
   ]
  },
  {
   "cell_type": "code",
   "execution_count": 168,
   "metadata": {
    "collapsed": false
   },
   "outputs": [
    {
     "data": {
      "text/plain": [
       "__main__.tracer"
      ]
     },
     "execution_count": 168,
     "metadata": {},
     "output_type": "execute_result"
    }
   ],
   "source": [
    "type(f)"
   ]
  },
  {
   "cell_type": "code",
   "execution_count": 176,
   "metadata": {
    "collapsed": true
   },
   "outputs": [],
   "source": [
    "class Person(object):\n",
    "    def __init__(self, name, pay):\n",
    "        self.name = name\n",
    "        self.pay = pay\n",
    "    \n",
    "    @tracer\n",
    "    def give_raise(self, percent):\n",
    "        self.pay *= (1.0 + percent)\n",
    "    \n",
    "    @tracer\n",
    "    def last_name(self):\n",
    "        return self.name.split()[-1]"
   ]
  },
  {
   "cell_type": "code",
   "execution_count": 177,
   "metadata": {
    "collapsed": true
   },
   "outputs": [],
   "source": [
    "bob = Person('Bob Smith', 100)"
   ]
  },
  {
   "cell_type": "code",
   "execution_count": 179,
   "metadata": {
    "collapsed": false
   },
   "outputs": [
    {
     "name": "stdout",
     "output_type": "stream",
     "text": [
      "Desc is <__main__.tracer object at 0x7fbe6ee4bb38>\n",
      "Subj is <__main__.Person object at 0x7fbe6ee4b908>\n",
      "Called wrapper __call__ with (0.2,), {}\n",
      "tracer for  <function Person.give_raise at 0x7fbe6ee8f620>\n",
      "call 2 to give_raise\n"
     ]
    }
   ],
   "source": [
    "bob.give_raise(0.2)"
   ]
  },
  {
   "cell_type": "markdown",
   "metadata": {},
   "source": [
    "Суть в следующем. В классе tracer у нас описан метод __get__, который реализует часть протокола дескрипторов. Когда мы обращаемся к задекорированному таким образом методу *give_raise*, то происходит следующее:\n",
    "\n",
    "* питон находит по имени в классе объект give_raise\n",
    "* видит, что у него есть метод __get__\n",
    "* вызывает метод __get__, который возвращает инстанс класса-обертки wrapper, которому для инициации передает два аргумента: ссылку на себя и ссылку на инстанс объекта, для которого мы вызвали метод (т.е. bob'a)\n",
    "* вызывает метод __call__ класса обертки, передавая ему аргумент метода (т.е. 0.2)\n",
    "* внутри метода __call__ выполняется вызов метода __call__ класса **tracer**, которому передается уже ссылка на bob'a и параметры метода.\n",
    "\n",
    "Вот такая вот схема. "
   ]
  },
  {
   "cell_type": "code",
   "execution_count": 180,
   "metadata": {
    "collapsed": true
   },
   "outputs": [],
   "source": [
    "class tracer(object):\n",
    "    def __init__(self, func):  # On @ decorator\n",
    "        self.calls = 0  # Save func for later call\n",
    "        self.func = func\n",
    "    \n",
    "    def __call__(self, *args, **kwargs):  # On call to original func\n",
    "        self.calls += 1\n",
    "        print('call %s to %s' % (self.calls, self.func.__name__))\n",
    "        return self.func(*args, **kwargs)\n",
    "    \n",
    "    def __get__(self, instance, owner):  # On method fetch\n",
    "        def wrapper(*args, **kwargs):  # Retain both inst\n",
    "            return self(instance, *args, **kwargs)  # Runs __call__\n",
    "            \n",
    "        return wrapper"
   ]
  },
  {
   "cell_type": "code",
   "execution_count": 181,
   "metadata": {
    "collapsed": true
   },
   "outputs": [],
   "source": [
    "class Person(object):\n",
    "    def __init__(self, name, pay):\n",
    "        self.name = name\n",
    "        self.pay = pay\n",
    "    \n",
    "    @tracer\n",
    "    def give_raise(self, percent):\n",
    "        self.pay *= (1.0 + percent)\n",
    "    \n",
    "    @tracer\n",
    "    def last_name(self):\n",
    "        return self.name.split()[-1]"
   ]
  },
  {
   "cell_type": "code",
   "execution_count": 182,
   "metadata": {
    "collapsed": false
   },
   "outputs": [
    {
     "name": "stdout",
     "output_type": "stream",
     "text": [
      "call 1 to give_raise\n"
     ]
    }
   ],
   "source": [
    "bob = Person('Bob Smith', 100)\n",
    "bob.give_raise(0.2)"
   ]
  },
  {
   "cell_type": "markdown",
   "metadata": {},
   "source": [
    "## Timing Calls"
   ]
  },
  {
   "cell_type": "code",
   "execution_count": 189,
   "metadata": {
    "collapsed": true
   },
   "outputs": [],
   "source": [
    "import time, sys\n",
    "force = list if sys.version_info[0] == 3 else (lambda x: x)\n",
    "\n",
    "class timer:\n",
    "    def __init__(self, func):\n",
    "        self.func = func\n",
    "        self.alltime = 0\n",
    "    \n",
    "    def __call__(self, *args, **kwargs):\n",
    "        start = time.clock()\n",
    "        result = self.func(*args, **kwargs)\n",
    "        elapsed = time.clock() - start\n",
    "        self.alltime += elapsed\n",
    "        print('%s: %.5f, %.5f' % (self.func.__name__, elapsed, self.alltime))\n",
    "        return result"
   ]
  },
  {
   "cell_type": "code",
   "execution_count": 190,
   "metadata": {
    "collapsed": true
   },
   "outputs": [],
   "source": [
    "@timer\n",
    "def listcomp(n):\n",
    "    return [x * 2 for x in range(n)]\n",
    "\n",
    "@timer\n",
    "def mapcall(n):\n",
    "    return force(map((lambda x: x * 2), range(n)))"
   ]
  },
  {
   "cell_type": "code",
   "execution_count": 191,
   "metadata": {
    "collapsed": false
   },
   "outputs": [
    {
     "name": "stdout",
     "output_type": "stream",
     "text": [
      "listcomp: 0.00000, 0.00000\n",
      "listcomp: 0.00000, 0.00000\n",
      "listcomp: 0.04000, 0.04000\n",
      "listcomp: 0.07000, 0.11000\n",
      "[0, 2, 4, 6, 8]\n",
      "allTime = 0.10999999999999988\n"
     ]
    }
   ],
   "source": [
    "result = listcomp(5)\n",
    "listcomp(50000)\n",
    "listcomp(500000)\n",
    "listcomp(1000000)\n",
    "print(result)\n",
    "print('allTime = %s' % listcomp.alltime)  # Total time for all listcomp calls"
   ]
  },
  {
   "cell_type": "code",
   "execution_count": 193,
   "metadata": {
    "collapsed": false
   },
   "outputs": [
    {
     "name": "stdout",
     "output_type": "stream",
     "text": [
      "mapcall: 0.00000, 0.21000\n",
      "mapcall: 0.01000, 0.22000\n",
      "mapcall: 0.05000, 0.27000\n",
      "mapcall: 0.13000, 0.40000\n",
      "[0, 2, 4, 6, 8]\n",
      "allTime = 0.4000000000000008\n",
      "\n",
      "**map/comp = 3.636\n"
     ]
    }
   ],
   "source": [
    "result = mapcall(5)\n",
    "mapcall(50000)\n",
    "mapcall(500000)\n",
    "mapcall(1000000)\n",
    "print(result)\n",
    "print('allTime = %s' % mapcall.alltime)  # Total time for all mapcall calls\n",
    "\n",
    "print('\\n**map/comp = %s' % round(mapcall.alltime / listcomp.alltime, 3))"
   ]
  },
  {
   "cell_type": "markdown",
   "metadata": {},
   "source": [
    "Ну и конфигурируемое декорирование"
   ]
  },
  {
   "cell_type": "code",
   "execution_count": 195,
   "metadata": {
    "collapsed": false
   },
   "outputs": [],
   "source": [
    "import time\n",
    "\n",
    "def timer(label='', trace=True):\n",
    "    class Timer:       \n",
    "        def __init__(self, func):\n",
    "            self.func = func\n",
    "            self.alltime = 0\n",
    "        def __call__(self, *args, **kwargs):\n",
    "            start = time.clock()\n",
    "            result = self.func(*args, **kwargs)\n",
    "            elapsed = time.clock() - start\n",
    "            self.alltime += elapsed\n",
    "            if trace:\n",
    "                values = (label, self.func.__name__, elapsed, self.alltime)\n",
    "                print('%s %s: %.5f, %.5f' % values)\n",
    "            return result\n",
    "    return Timer"
   ]
  },
  {
   "cell_type": "code",
   "execution_count": 202,
   "metadata": {
    "collapsed": true
   },
   "outputs": [],
   "source": [
    "@timer(label='===> ', trace=True)\n",
    "def listcomp(n):\n",
    "    return [x * 2 for x in range(n)]\n",
    "\n",
    "@timer(label='---> ')\n",
    "def mapcall(n):\n",
    "    return list(map((lambda x: x * 2), range(n)))"
   ]
  },
  {
   "cell_type": "code",
   "execution_count": 203,
   "metadata": {
    "collapsed": false
   },
   "outputs": [
    {
     "name": "stdout",
     "output_type": "stream",
     "text": [
      "===>  listcomp: 0.00000, 0.00000\n",
      "===>  listcomp: 0.01000, 0.01000\n",
      "===>  listcomp: 0.02000, 0.03000\n",
      "===>  listcomp: 0.06000, 0.09000\n",
      "allTime = 0.08999999999999897\n",
      "\n",
      "--->  mapcall: 0.00000, 0.00000\n",
      "--->  mapcall: 0.00000, 0.00000\n",
      "--->  mapcall: 0.05000, 0.05000\n",
      "--->  mapcall: 0.13000, 0.18000\n",
      "allTime = 0.17999999999999972\n",
      "\n"
     ]
    }
   ],
   "source": [
    "for func in (listcomp, mapcall):\n",
    "    func(5) # Time for this call, all calls, return value\n",
    "    func(50000)\n",
    "    func(500000)\n",
    "    func(1000000)\n",
    "    print('allTime = %s\\n' % func.alltime) # Total time for all calls"
   ]
  },
  {
   "cell_type": "code",
   "execution_count": 204,
   "metadata": {
    "collapsed": false
   },
   "outputs": [
    {
     "name": "stdout",
     "output_type": "stream",
     "text": [
      "\n",
      "**map/comp = 2.0\n"
     ]
    }
   ],
   "source": [
    "print('\\n**map/comp = %s' % round(mapcall.alltime / listcomp.alltime, 3))"
   ]
  },
  {
   "cell_type": "markdown",
   "metadata": {},
   "source": [
    "# Программирование декораторов классов"
   ]
  },
  {
   "cell_type": "markdown",
   "metadata": {},
   "source": [
    "## Singleton classes"
   ]
  },
  {
   "cell_type": "code",
   "execution_count": 206,
   "metadata": {
    "collapsed": true
   },
   "outputs": [],
   "source": [
    "instances = {}\n",
    "\n",
    "def singleton(klass):\n",
    "    def on_call(*args, **kwargs):\n",
    "        if klass not in instances:\n",
    "            instances[klass] = klass(*args, **kwargs)\n",
    "        return instances[klass]\n",
    "    return on_call"
   ]
  },
  {
   "cell_type": "code",
   "execution_count": 207,
   "metadata": {
    "collapsed": true
   },
   "outputs": [],
   "source": [
    "@singleton\n",
    "class Person:\n",
    "    def __init__(self, name, hours, rate):\n",
    "        self.name = name\n",
    "        self.hours = hours\n",
    "        self.rate = rate\n",
    "    def pay(self):\n",
    "        return self.hours * self.rate"
   ]
  },
  {
   "cell_type": "code",
   "execution_count": 208,
   "metadata": {
    "collapsed": true
   },
   "outputs": [],
   "source": [
    "@singleton\n",
    "class Spam:\n",
    "    def __init__(self, val):\n",
    "        self.attr = val"
   ]
  },
  {
   "cell_type": "code",
   "execution_count": 209,
   "metadata": {
    "collapsed": false
   },
   "outputs": [
    {
     "name": "stdout",
     "output_type": "stream",
     "text": [
      "Bob 400\n"
     ]
    }
   ],
   "source": [
    "bob = Person('Bob', 40, 10)\n",
    "print(bob.name, bob.pay())"
   ]
  },
  {
   "cell_type": "code",
   "execution_count": 210,
   "metadata": {
    "collapsed": false
   },
   "outputs": [
    {
     "name": "stdout",
     "output_type": "stream",
     "text": [
      "Bob 400\n"
     ]
    }
   ],
   "source": [
    "sue = Person('Sue', 50, 20)\n",
    "print(sue.name, sue.pay())"
   ]
  },
  {
   "cell_type": "code",
   "execution_count": 217,
   "metadata": {
    "collapsed": false
   },
   "outputs": [
    {
     "data": {
      "text/plain": [
       "True"
      ]
     },
     "execution_count": 217,
     "metadata": {},
     "output_type": "execute_result"
    }
   ],
   "source": [
    "x = Spam(val=42)\n",
    "y = Spam(99)\n",
    "x.attr == y.attr == 42"
   ]
  },
  {
   "cell_type": "code",
   "execution_count": 212,
   "metadata": {
    "collapsed": false
   },
   "outputs": [
    {
     "data": {
      "text/plain": [
       "{__main__.Person: <__main__.Person at 0x7fbe6ee64f28>,\n",
       " __main__.Spam: <__main__.Spam at 0x7fbe6ee64a90>}"
      ]
     },
     "execution_count": 212,
     "metadata": {},
     "output_type": "execute_result"
    }
   ],
   "source": [
    "instances"
   ]
  },
  {
   "cell_type": "markdown",
   "metadata": {},
   "source": [
    "Using **nonlocal**"
   ]
  },
  {
   "cell_type": "code",
   "execution_count": 213,
   "metadata": {
    "collapsed": true
   },
   "outputs": [],
   "source": [
    "def singleton(klass):\n",
    "    instance = None\n",
    "    def wrapper(*args, **kwargs):\n",
    "        nonlocal instance\n",
    "        if instance == None:\n",
    "            instance = klass(*args, **kwargs)\n",
    "        return instance\n",
    "    return wrapper"
   ]
  },
  {
   "cell_type": "code",
   "execution_count": 214,
   "metadata": {
    "collapsed": true
   },
   "outputs": [],
   "source": [
    "@singleton\n",
    "class Spam:\n",
    "    def __init__(self, val):\n",
    "        self.attr = val"
   ]
  },
  {
   "cell_type": "code",
   "execution_count": 216,
   "metadata": {
    "collapsed": false
   },
   "outputs": [
    {
     "data": {
      "text/plain": [
       "True"
      ]
     },
     "execution_count": 216,
     "metadata": {},
     "output_type": "execute_result"
    }
   ],
   "source": [
    "x = Spam(val=42)\n",
    "y = Spam(99)\n",
    "x.attr == y.attr == 42"
   ]
  },
  {
   "cell_type": "markdown",
   "metadata": {},
   "source": [
    "Or using attribute"
   ]
  },
  {
   "cell_type": "code",
   "execution_count": 219,
   "metadata": {
    "collapsed": true
   },
   "outputs": [],
   "source": [
    "# 3.X and 2.X: func attrs, classes (alternative codings)\n",
    "def singleton(aClass):\n",
    "    def onCall(*args, **kwargs):\n",
    "        if onCall.instance == None:\n",
    "            onCall.instance = aClass(*args, **kwargs)\n",
    "        return onCall.instance\n",
    "    onCall.instance = None\n",
    "    return onCall\n",
    "\n",
    "class singleton:\n",
    "    def __init__(self, aClass): # On @ decoration\n",
    "        self.aClass = aClass\n",
    "        self.instance = None\n",
    "    def __call__(self, *args, **kwargs): # On instance creation\n",
    "        if self.instance == None:\n",
    "            self.instance = self.aClass(*args, **kwargs) # One instance per class\n",
    "        return self.instance"
   ]
  },
  {
   "cell_type": "markdown",
   "metadata": {},
   "source": [
    "## Tracing object interfaces"
   ]
  },
  {
   "cell_type": "code",
   "execution_count": 223,
   "metadata": {
    "collapsed": true
   },
   "outputs": [],
   "source": [
    "class Wrapper:\n",
    "    def __init__(self, obj):\n",
    "        self.wrapped = obj\n",
    "    def __getattr__(self, attr):\n",
    "        print('Trace:', attr)\n",
    "        return getattr(self.wrapped, attr)"
   ]
  },
  {
   "cell_type": "code",
   "execution_count": 224,
   "metadata": {
    "collapsed": true
   },
   "outputs": [],
   "source": [
    "x = Wrapper([1, 2, 3])"
   ]
  },
  {
   "cell_type": "code",
   "execution_count": 225,
   "metadata": {
    "collapsed": false
   },
   "outputs": [
    {
     "name": "stdout",
     "output_type": "stream",
     "text": [
      "Trace: append\n"
     ]
    }
   ],
   "source": [
    "x.append(4)"
   ]
  },
  {
   "cell_type": "code",
   "execution_count": 226,
   "metadata": {
    "collapsed": false
   },
   "outputs": [
    {
     "data": {
      "text/plain": [
       "[1, 2, 3, 4]"
      ]
     },
     "execution_count": 226,
     "metadata": {},
     "output_type": "execute_result"
    }
   ],
   "source": [
    "x.wrapped"
   ]
  },
  {
   "cell_type": "markdown",
   "metadata": {},
   "source": [
    "### Tracing with class decorator"
   ]
  },
  {
   "cell_type": "code",
   "execution_count": 229,
   "metadata": {
    "collapsed": false
   },
   "outputs": [],
   "source": [
    "def Tracer(klass):\n",
    "    class Wrapper:\n",
    "        def __init__(self, *args, **kwargs):\n",
    "            self.fetches = 0\n",
    "            self.wrapped = klass(*args, **kwargs)\n",
    "        def __getattr__(self, attr):\n",
    "            print('Trace:', attr)\n",
    "            self.fetches += 1\n",
    "            return getattr(self.wrapped, attr)\n",
    "    return Wrapper"
   ]
  },
  {
   "cell_type": "code",
   "execution_count": 230,
   "metadata": {
    "collapsed": true
   },
   "outputs": [],
   "source": [
    "@Tracer\n",
    "class Spam:\n",
    "    def display(self):\n",
    "        print('Spam!' * 8)"
   ]
  },
  {
   "cell_type": "code",
   "execution_count": 231,
   "metadata": {
    "collapsed": false
   },
   "outputs": [
    {
     "name": "stdout",
     "output_type": "stream",
     "text": [
      "Trace: display\n",
      "Spam!Spam!Spam!Spam!Spam!Spam!Spam!Spam!\n",
      "1\n"
     ]
    }
   ],
   "source": [
    "food = Spam()\n",
    "food.display()\n",
    "print(food.fetches)"
   ]
  },
  {
   "cell_type": "code",
   "execution_count": null,
   "metadata": {
    "collapsed": true
   },
   "outputs": [],
   "source": []
  }
 ],
 "metadata": {
  "kernelspec": {
   "display_name": "Python 3",
   "language": "python",
   "name": "python3"
  },
  "language_info": {
   "codemirror_mode": {
    "name": "ipython",
    "version": 3
   },
   "file_extension": ".py",
   "mimetype": "text/x-python",
   "name": "python",
   "nbconvert_exporter": "python",
   "pygments_lexer": "ipython3",
   "version": "3.4.3"
  }
 },
 "nbformat": 4,
 "nbformat_minor": 0
}
